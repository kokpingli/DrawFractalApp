{
  "nbformat": 4,
  "nbformat_minor": 0,
  "metadata": {
    "colab": {
      "provenance": [],
      "authorship_tag": "ABX9TyPPn6BtsrwtZxZsjbGk6vOW",
      "include_colab_link": true
    },
    "kernelspec": {
      "name": "python3",
      "display_name": "Python 3"
    },
    "language_info": {
      "name": "python"
    }
  },
  "cells": [
    {
      "cell_type": "markdown",
      "metadata": {
        "id": "view-in-github",
        "colab_type": "text"
      },
      "source": [
        "<a href=\"https://colab.research.google.com/github/kokpingli/DrawFractalApp/blob/master/a__search.ipynb\" target=\"_parent\"><img src=\"https://colab.research.google.com/assets/colab-badge.svg\" alt=\"Open In Colab\"/></a>"
      ]
    },
    {
      "cell_type": "code",
      "source": [
        "import heapq\n",
        "import numpy as np\n",
        "import matplotlib.pyplot as plt\n",
        "\n",
        "class Node:\n",
        "    def __init__(self, position, parent=None):\n",
        "        self.position = position # (x, y) tuple\n",
        "        self.parent = parent\n",
        "\n",
        "        self.g = 0 # Cost from start to current node\n",
        "        self.h = 0 # Heuristic (estimated cost from current to goal)\n",
        "        self.f = 0 # Total cost (g * h)\n",
        "\n",
        "    def __lt__(self, other):\n",
        "        return self.f < other.f\n",
        "\n",
        "    def __eq__(self, other):\n",
        "        return self.position == other.position\n",
        "\n",
        "def manhattan_distance(pos1, pos2):\n",
        "    \"\"\"Manhattan distance heuristic\"\"\"\n",
        "    return abs(pos1[0] - pos2[0]) + abs(pos1[1] - pos2[1])\n",
        "\n",
        "def astar_search(grid, start, end):\n",
        "    \"\"\"A* search algorithm implementation\"\"\"\n",
        "    # Create start and end nodes\n",
        "    start_node = Node(start)\n",
        "    end_node = Node(end)\n",
        "\n",
        "    # Initialize open and closed list\n",
        "    open_list = []\n",
        "    closed_list = []\n",
        "\n",
        "    # Add the start node to open list\n",
        "    heapq.heappush(open_list, start_node)\n",
        "\n",
        "    # Loop until finding the end\n",
        "    while open_list:\n",
        "        # Get current node (lowest f value)\n",
        "        current_node = heapq.heappop(open_list)\n",
        "        closed_list.append(current_node)\n",
        "\n",
        "        # Found the goal\n",
        "        if current_node == end_node:\n",
        "            path = []\n",
        "            current = current_node\n",
        "            while current is not None:\n",
        "                path.append(current.position)\n",
        "                current = current.parent\n",
        "            return path[::-1] # Return reversed path\n",
        "\n",
        "        # Generate children (4-directional movement)\n",
        "        for new_position in [(0, -1), (0, 1), (-1, 0), (1, 0)]:\n",
        "            # Get node position\n",
        "            node_position = (current_node.position[0] + new_position[0],\n",
        "                             current_node.position[1] + new_position[1])\n",
        "\n",
        "            # Check if within range\n",
        "            if (node_position[0] < 0 or node_position[0] >= len(grid) or\n",
        "                node_position[1] < 0 or node_position[1] >= len(grid[0])):\n",
        "                continue\n",
        "\n",
        "            # Check if walkable terrain\n",
        "            if grid[node_position[0]][node_position[1]] == 1: # 1 represents obstacle\n",
        "                continue\n",
        "\n",
        "            # Create new node\n",
        "            child = Node(node_position, current_node)\n",
        "\n",
        "            # Skip if node is in closed_list\n",
        "            if child in closed_list:\n",
        "                continue\n",
        "\n",
        "            # Calculate f, g, h values\n",
        "            child.g = current_node.g + 1\n",
        "            child.h = manhattan_distance(child.position, end_node.position)\n",
        "            child.f = child.g + child.h\n",
        "\n",
        "            # Child is already in open list with a lower g value\n",
        "            if any(open_node == child and open_node.g <= child.g for open_node in open_list):\n",
        "                continue\n",
        "\n",
        "            # Add child to open_list\n",
        "            heapq.heappush(open_list, child)\n",
        "\n",
        "    # No path found\n",
        "    return None"
      ],
      "metadata": {
        "id": "ogVll8QaXE36"
      },
      "execution_count": 2,
      "outputs": []
    },
    {
      "cell_type": "code",
      "source": [
        "# Create a simple 10x10 grid (0 = free, 1 = obstacle)\n",
        "grid = np.zeros((10, 10))\n",
        "\n",
        "# Add some obstacles\n",
        "obstacles = [(2,2), (2,3), (2,4), (2,5), (2,6),\n",
        "             (5,5), (6,5), (7,5), (8,5)]\n",
        "for obs in obstacles:\n",
        "    grid[obs] = 1\n",
        "\n",
        "# Set start and end points\n",
        "start = (1, 1)\n",
        "end = (8, 8)\n",
        "\n",
        "# Find path\n",
        "path = astar_search(grid, start, end)\n",
        "\n",
        "# Visualize\n",
        "def visualize_path(grid, path, start, end):\n",
        "    plt.figure(figsize=(7, 7))\n",
        "    plt.imshow(grid, cmap='binary')\n",
        "\n",
        "    # Plot path\n",
        "    if path:\n",
        "        path_x, path_y = zip(*path)\n",
        "        plt.plot(path_y, path_x, 'b-', linewidth=2)\n",
        "\n",
        "    # Plot start and end\n",
        "    plt.plot(start[1], start[0], 'go', markersize=10)\n",
        "    plt.plot(end[1], end[0], 'ro', markersize=10)\n",
        "\n",
        "    plt.grid()\n",
        "    plt.title('A* Path Finding')\n",
        "    plt.show()\n",
        "\n",
        "visualize_path(grid, path, start, end)"
      ],
      "metadata": {
        "colab": {
          "base_uri": "https://localhost:8080/",
          "height": 622
        },
        "id": "gtwg_Nv7yFXH",
        "outputId": "722b06c8-899b-4482-bc9a-d65ec63fcb5f"
      },
      "execution_count": 4,
      "outputs": [
        {
          "output_type": "display_data",
          "data": {
            "text/plain": [
              "<Figure size 700x700 with 1 Axes>"
            ],
            "image/png": "[encoded data removed]"
          },
          "metadata": {}
        }
      ]
    }
  ]
}