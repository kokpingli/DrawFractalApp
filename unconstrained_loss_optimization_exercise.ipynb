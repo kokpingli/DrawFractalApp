{
  "nbformat": 4,
  "nbformat_minor": 0,
  "metadata": {
    "colab": {
      "provenance": [],
      "authorship_tag": "ABX9TyNkdD+4pWSqbbReTcThy8e8",
      "include_colab_link": true
    },
    "kernelspec": {
      "name": "python3",
      "display_name": "Python 3"
    },
    "language_info": {
      "name": "python"
    }
  },
  "cells": [
    {
      "cell_type": "markdown",
      "metadata": {
        "id": "view-in-github",
        "colab_type": "text"
      },
      "source": [
        "<a href=\"https://colab.research.google.com/github/kokpingli/DrawFractalApp/blob/master/unconstrained_loss_optimization_exercise.ipynb\" target=\"_parent\"><img src=\"https://colab.research.google.com/assets/colab-badge.svg\" alt=\"Open In Colab\"/></a>"
      ]
    },
    {
      "cell_type": "code",
      "execution_count": 2,
      "metadata": {
        "colab": {
          "base_uri": "https://localhost:8080/"
        },
        "id": "sfi_7LlJ5Y1d",
        "outputId": "0abb318f-605c-413d-8f6f-171fba8cabaa"
      },
      "outputs": [
        {
          "output_type": "stream",
          "name": "stdout",
          "text": [
            "Epoch 1: Loss = 4.0, w = 0.4, b = 0.4\n",
            "Epoch 2: Loss = 7.839999999999999, w = 1.52, b = 0.96\n",
            "Epoch 3: Loss = 0.23039999999999955, w = 1.8079999999999998, b = 1.0559999999999998\n"
          ]
        }
      ],
      "source": [
        "import numpy as np\n",
        "x = np.array([1, 2, 3])\n",
        "y = np.array([2, 4, 6])\n",
        "w, b = 0.0, 0.0\n",
        "learning_rate = 0.1\n",
        "\n",
        "for i in range(len(x)):\n",
        "  u = y[i] - (w * x[i] + b)\n",
        "  L = u ** 2\n",
        "  dLdw = -2 * x[i] * u\n",
        "  dLdb = -2 * u\n",
        "  w = w - learning_rate * dLdw\n",
        "  b = b - learning_rate * dLdb\n",
        "  print(f\"Epoch {i+1}: Loss = {L}, w = {w}, b = {b}\")"
      ]
    },
    {
      "cell_type": "code",
      "source": [
        "import numpy as np\n",
        "x = np.array([1, 2, 3])\n",
        "y = np.array([2, 4, 6])\n",
        "w, b = 0.0, 0.0\n",
        "learning_rate = 0.1\n",
        "accu_dLdw = 0\n",
        "accu_dLdb = 0\n",
        "\n",
        "for i in range(len(x)):\n",
        "  u = y[i] - (w * x[i] + b)\n",
        "  L = u ** 2\n",
        "  dLdw = -2 * x[i] * u\n",
        "  dLdb = -2 * u\n",
        "  accu_dLdw += dLdw\n",
        "  accu_dLdb += dLdb\n",
        "\n",
        "w = w - learning_rate * accu_dLdw/len(x)\n",
        "b = b - learning_rate * accu_dLdb/len(x)\n",
        "print(f\"w = {w}, b = {b}\")"
      ],
      "metadata": {
        "colab": {
          "base_uri": "https://localhost:8080/"
        },
        "id": "tA8O7Z6dCSsa",
        "outputId": "112eafea-19d5-46f4-cc8d-68f140d0dd48"
      },
      "execution_count": 4,
      "outputs": [
        {
          "output_type": "stream",
          "name": "stdout",
          "text": [
            "w = 1.866666666666667, b = 0.8000000000000002\n"
          ]
        }
      ]
    }
  ]
}